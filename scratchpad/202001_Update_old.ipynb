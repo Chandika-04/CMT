{
 "cells": [
  {
   "cell_type": "code",
   "execution_count": 1,
   "metadata": {
    "collapsed": true,
    "pycharm": {
     "is_executing": false
    }
   },
   "outputs": [
    {
     "data": {
      "text/plain": "'config.settings.local_ventura'"
     },
     "metadata": {},
     "output_type": "execute_result",
     "execution_count": 1
    }
   ],
   "source": [
    "import os\n",
    "os.environ.setdefault(\"DJANGO_SETTINGS_MODULE\", \"config.settings.local_ventura\")"
   ]
  },
  {
   "cell_type": "code",
   "execution_count": 3,
   "outputs": [],
   "source": [
    "import django\n",
    "os.chdir('../')\n",
    "os.getcwd()\n",
    "from django_pandas.io import read_frame\n",
    "import plotly_express as px\n",
    "%matplotlib inline\n",
    "import numpy as np\n",
    "import matplotlib.pyplot as plt"
   ],
   "metadata": {
    "collapsed": false,
    "pycharm": {
     "name": "#%%\n",
     "is_executing": false
    }
   }
  },
  {
   "cell_type": "code",
   "execution_count": null,
   "outputs": [],
   "source": [
    "django.setup()"
   ],
   "metadata": {
    "collapsed": false,
    "pycharm": {
     "name": "#%%\n"
    }
   }
  },
  {
   "cell_type": "code",
   "execution_count": 13,
   "outputs": [],
   "source": [
    "import plotly\n",
    "import chart_studio.plotly as py\n",
    "from plotly import tools\n",
    "import plotly.graph_objs as go"
   ],
   "metadata": {
    "collapsed": false,
    "pycharm": {
     "name": "#%%\n",
     "is_executing": false
    }
   }
  },
  {
   "cell_type": "code",
   "execution_count": 5,
   "metadata": {
    "scrolled": true,
    "pycharm": {
     "is_executing": false
    }
   },
   "outputs": [],
   "source": [
    "from chapters.models import Chapter\n",
    "from django.db import models"
   ]
  },
  {
   "cell_type": "code",
   "execution_count": 3,
   "metadata": {
    "pycharm": {
     "is_executing": false
    }
   },
   "outputs": [],
   "source": [
    "test = Chapter.objects.first()"
   ]
  },
  {
   "cell_type": "code",
   "execution_count": 4,
   "metadata": {
    "pycharm": {
     "is_executing": false
    }
   },
   "outputs": [
    {
     "data": {
      "text/plain": "29"
     },
     "metadata": {},
     "output_type": "execute_result",
     "execution_count": 4
    }
   ],
   "source": [
    "test.actives().count()"
   ]
  },
  {
   "cell_type": "code",
   "execution_count": 6,
   "metadata": {
    "pycharm": {
     "is_executing": false
    }
   },
   "outputs": [
    {
     "data": {
      "text/plain": "'volunteer'"
     },
     "metadata": {},
     "output_type": "execute_result",
     "execution_count": 6
    }
   ],
   "source": [
    "test.members.exclude(models.Q(depledge__isnull=True)).first().depledge.reason"
   ]
  },
  {
   "cell_type": "code",
   "execution_count": 8,
   "metadata": {
    "pycharm": {
     "is_executing": false
    }
   },
   "outputs": [],
   "source": [
    "colors = {\n",
    "    'actives': 'darkred',\n",
    "    'pledges': 'gold',\n",
    "    'events': 'green',\n",
    "    'submissions': 'yellow',\n",
    "    'Bro': 'darkred',\n",
    "    'Ops': 'skyblue',\n",
    "    'Pro': 'gold',\n",
    "    'Ser': 'magenta',\n",
    "    'volunteer': 'darkred',\n",
    "    'time': 'skyblue',\n",
    "    'grades': 'gold',\n",
    "    'interest': 'magenta',\n",
    "    'vote': 'orange',\n",
    "    'withdrew': 'grey',\n",
    "    'transfer': 'turquoise',\n",
    "    'other': 'turquoise',\n",
    "}"
   ]
  },
  {
   "cell_type": "code",
   "execution_count": 9,
   "metadata": {
    "pycharm": {
     "is_executing": false
    }
   },
   "outputs": [],
   "source": [
    "from regions.models import Region"
   ]
  },
  {
   "cell_type": "code",
   "execution_count": 10,
   "metadata": {
    "pycharm": {
     "is_executing": false
    }
   },
   "outputs": [],
   "source": [
    "test_region = Region.objects.last()"
   ]
  },
  {
   "cell_type": "code",
   "execution_count": 11,
   "metadata": {
    "pycharm": {
     "is_executing": false
    }
   },
   "outputs": [
    {
     "data": {
      "text/plain": "<QuerySet [<Chapter: Epsilon>, <Chapter: Lambda Delta>, <Chapter: Mu Delta>, <Chapter: Omicron Gamma>, <Chapter: Rho Delta>, <Chapter: SCU Colony>, <Chapter: SJSU Colony>, <Chapter: UW Colony>]>"
     },
     "metadata": {},
     "output_type": "execute_result",
     "execution_count": 11
    }
   ],
   "source": [
    "test_region.chapters.all()"
   ]
  },
  {
   "cell_type": "code",
   "execution_count": 14,
   "metadata": {
    "pycharm": {
     "is_executing": false
    }
   },
   "outputs": [],
   "source": [
    "DataOut=[]\n",
    "legend=True\n",
    "for chapter in Chapter.objects.all():\n",
    "    if chapter.name == \"TEST\" or not chapter.active:\n",
    "        continue\n",
    "    trace= go.Bar(\n",
    "        x=[chapter.name],\n",
    "        y=[chapter.actives().count()],\n",
    "        visible=True,\n",
    "        name=f\"Actives\",\n",
    "        marker=dict(color=colors['actives']),\n",
    "        showlegend=legend,\n",
    "    )\n",
    "    DataOut.append(trace)\n",
    "    trace= go.Bar(\n",
    "        x=[chapter.name],\n",
    "        y=[chapter.pledges().count()],\n",
    "        visible=True,\n",
    "        name=f\"Pledges\",\n",
    "        marker=dict(color=colors['pledges']),\n",
    "        showlegend=legend,\n",
    "    )\n",
    "    legend=False\n",
    "    DataOut.append(trace)"
   ]
  },
  {
   "cell_type": "code",
   "execution_count": 15,
   "outputs": [],
   "source": [
    "menu = [\n",
    "    dict(label = \"ALL\",\n",
    "         method = 'update',\n",
    "         args = [{'visible': [True for data_obj in DataOut]},\n",
    "                 ]),\n",
    "       ]\n",
    "for region in Region.objects.all().order_by('name'):\n",
    "    if region.name == \"Test\":\n",
    "        continue\n",
    "    chapter_names = region.chapters.all().values_list('name', flat=True)\n",
    "    menu_obj = dict(label = region.name,\n",
    "         method = 'update',\n",
    "         args = [{'visible': [True if data_obj['x'][0] in chapter_names else False for data_obj in DataOut]},\n",
    "                 ])\n",
    "    menu.append(menu_obj)\n",
    "updatemenus = list([\n",
    "    dict(active=0,\n",
    "         buttons=menu,\n",
    "    )\n",
    "])"
   ],
   "metadata": {
    "collapsed": false,
    "pycharm": {
     "name": "#%%\n",
     "is_executing": false
    }
   }
  },
  {
   "cell_type": "code",
   "execution_count": 16,
   "outputs": [
    {
     "data": {
      "text/plain": "'chapter_activeVSpledges.html'"
     },
     "metadata": {},
     "output_type": "execute_result",
     "execution_count": 16
    }
   ],
   "source": [
    "layout = go.Layout(\n",
    "    barmode='stack',\n",
    "    updatemenus=updatemenus,\n",
    ")\n",
    "fig = go.Figure(data=DataOut, layout=layout)\n",
    "plotly.offline.plot(fig, filename=\"chapter_activeVSpledges.html\")"
   ],
   "metadata": {
    "collapsed": false,
    "pycharm": {
     "name": "#%%\n",
     "is_executing": false
    }
   }
  },
  {
   "cell_type": "code",
   "execution_count": 17,
   "metadata": {
    "pycharm": {
     "is_executing": false
    }
   },
   "outputs": [],
   "source": [
    "from scores.models import ScoreType"
   ]
  },
  {
   "cell_type": "code",
   "execution_count": 37,
   "metadata": {
    "pycharm": {
     "is_executing": false
    }
   },
   "outputs": [
    {
     "data": {
      "text/plain": "'chapter_eventTypes_fall2018.html'"
     },
     "metadata": {},
     "output_type": "execute_result",
     "execution_count": 37
    }
   ],
   "source": [
    "DataOut=[]\n",
    "legend=True\n",
    "for chapter in Chapter.objects.all():\n",
    "    if chapter.name == \"TEST\" or not chapter.active:\n",
    "        continue\n",
    "    for evt_type in [x.value[0] for x in ScoreType.SECTION]:\n",
    "        count = chapter.events.filter(\n",
    "            date__lte=models.BIENNIUM_DATES['Fall 2018']['end'],\n",
    "            date__gte=models.BIENNIUM_DATES['Fall 2018']['start']\n",
    "        ).filter(type__section=evt_type).count()\n",
    "        trace= go.Bar(\n",
    "            x=[chapter.name],\n",
    "            y=[count],\n",
    "            visible=True,\n",
    "            name=f\"{evt_type}\",\n",
    "            marker=dict(color=colors[evt_type]),\n",
    "            showlegend=legend,\n",
    "        )\n",
    "        DataOut.append(trace)\n",
    "    legend=False\n",
    "layout = go.Layout(\n",
    "    barmode='stack',\n",
    "    updatemenus=updatemenus,\n",
    ")\n",
    "fig = go.Figure(data=DataOut, layout=layout)\n",
    "plotly.offline.plot(fig, filename=\"chapter_eventTypes_fall2018.html\")"
   ]
  },
  {
   "cell_type": "code",
   "execution_count": 19,
   "metadata": {
    "pycharm": {
     "is_executing": false
    }
   },
   "outputs": [],
   "source": [
    "from forms.models import Depledge"
   ]
  },
  {
   "cell_type": "code",
   "execution_count": 20,
   "metadata": {
    "pycharm": {
     "is_executing": false
    }
   },
   "outputs": [
    {
     "data": {
      "text/plain": "'chapter_depledges.html'"
     },
     "metadata": {},
     "output_type": "execute_result",
     "execution_count": 20
    }
   ],
   "source": [
    "DataOut=[]\n",
    "legend=True\n",
    "for chapter in Chapter.objects.all():\n",
    "    if chapter.name == \"TEST\" or not chapter.active:\n",
    "        continue\n",
    "    for type_value in [x.value[0] for x in Depledge.REASONS]:\n",
    "        count = chapter.members.exclude(models.Q(depledge__isnull=True)).filter(depledge__reason=type_value).count()\n",
    "        trace= go.Bar(\n",
    "            x=[chapter.name],\n",
    "            y=[count],\n",
    "            visible=True,\n",
    "            name=f\"{type_value}\",\n",
    "            marker=dict(color=colors[type_value]),\n",
    "            showlegend=legend,\n",
    "        )\n",
    "        DataOut.append(trace)\n",
    "    legend = False\n",
    "layout = go.Layout(\n",
    "    barmode='stack',\n",
    "    updatemenus=updatemenus,\n",
    ")\n",
    "fig = go.Figure(data=DataOut, layout=layout)\n",
    "plotly.offline.plot(fig, filename=\"chapter_depledges.html\")"
   ]
  },
  {
   "cell_type": "code",
   "execution_count": 21,
   "metadata": {
    "pycharm": {
     "is_executing": false
    }
   },
   "outputs": [],
   "source": [
    "from core import models"
   ]
  },
  {
   "cell_type": "code",
   "execution_count": 22,
   "metadata": {
    "pycharm": {
     "is_executing": false
    }
   },
   "outputs": [
    {
     "data": {
      "text/plain": "{'Fall 2018': {'start': datetime.datetime(2018, 7, 1, 0, 0),\n  'end': datetime.datetime(2018, 12, 31, 0, 0)},\n 'Spring 2019': {'start': datetime.datetime(2019, 1, 1, 0, 0),\n  'end': datetime.datetime(2019, 6, 30, 0, 0)},\n 'Fall 2019': {'start': datetime.datetime(2019, 7, 1, 0, 0),\n  'end': datetime.datetime(2019, 12, 31, 0, 0)},\n 'Spring 2020': {'start': datetime.datetime(2020, 1, 1, 0, 0),\n  'end': datetime.datetime(2020, 6, 30, 0, 0)}}"
     },
     "metadata": {},
     "output_type": "execute_result",
     "execution_count": 22
    }
   ],
   "source": [
    "models.BIENNIUM_DATES"
   ]
  },
  {
   "cell_type": "code",
   "execution_count": 23,
   "metadata": {
    "pycharm": {
     "is_executing": false
    }
   },
   "outputs": [],
   "source": [
    "from events.models import Event"
   ]
  },
  {
   "cell_type": "code",
   "execution_count": 24,
   "metadata": {
    "pycharm": {
     "is_executing": false
    }
   },
   "outputs": [],
   "source": [
    "events = Event.objects.filter(\n",
    "    date__lte=models.BIENNIUM_DATES['Fall 2019']['end'],\n",
    "    date__gte=models.BIENNIUM_DATES['Fall 2019']['start'])"
   ]
  },
  {
   "cell_type": "code",
   "execution_count": 25,
   "metadata": {
    "pycharm": {
     "is_executing": false
    }
   },
   "outputs": [],
   "source": [
    "from forms.models import Initiation, StatusChange\n",
    "from tasks.models import TaskChapter\n",
    "from users.models import UserRoleChange"
   ]
  },
  {
   "cell_type": "code",
   "execution_count": 32,
   "metadata": {
    "pycharm": {
     "is_executing": false
    }
   },
   "outputs": [],
   "source": [
    "DataOut=[]"
   ]
  },
  {
   "cell_type": "code",
   "execution_count": 33,
   "outputs": [
    {
     "data": {
      "text/plain": "'Counts.html'"
     },
     "metadata": {},
     "output_type": "execute_result",
     "execution_count": 33
    }
   ],
   "source": [
    "for i, (date_name, start_end)  in enumerate(models.BIENNIUM_DATES.items()):\n",
    "    trace= go.Bar(\n",
    "        x=[f\"Events\"],\n",
    "        y=[Event.objects.filter(\n",
    "            date__lte=start_end['end'],\n",
    "            date__gte=start_end['start']).count()],\n",
    "        visible=True,\n",
    "        name=f\"Events {date_name}\",\n",
    "        marker=dict(color='darkred'),\n",
    "        showlegend=True,\n",
    "    )\n",
    "    DataOut.append(trace)\n",
    "    trace= go.Bar(\n",
    "        x=[f\"Initiations\"],\n",
    "        y=[Initiation.objects.filter(\n",
    "            created__lte=start_end['end'],\n",
    "            created__gte=start_end['start']).count()],\n",
    "        visible=True,\n",
    "        name=f\"Initiations {date_name}\",\n",
    "        marker=dict(color='gold'),\n",
    "        showlegend=True,\n",
    "    )\n",
    "    DataOut.append(trace)\n",
    "    trace= go.Bar(\n",
    "        x=[f\"Status Change\"],\n",
    "        y=[StatusChange.objects.filter(\n",
    "            created__lte=start_end['end'],\n",
    "            created__gte=start_end['start']).count()],\n",
    "        visible=True,\n",
    "        name=f\"Status Change {date_name}\",\n",
    "        marker=dict(color='magenta'),\n",
    "        showlegend=True,\n",
    "    )\n",
    "    DataOut.append(trace)\n",
    "    trace= go.Bar(\n",
    "        x=[f\"Officer Reports\"],\n",
    "        y=[UserRoleChange.objects.filter(\n",
    "            start__lte=start_end['end'],\n",
    "            start__gte=start_end['start']).count()],\n",
    "        visible=True,\n",
    "        name=f\"Officer Reports {date_name}\",\n",
    "        marker=dict(color='cyan'),\n",
    "        showlegend=True,\n",
    "    )\n",
    "    DataOut.append(trace)\n",
    "layout = go.Layout(\n",
    ")\n",
    "fig = go.Figure(data=DataOut, layout=layout)\n",
    "plotly.offline.plot(fig, filename=\"Counts.html\")"
   ],
   "metadata": {
    "collapsed": false,
    "pycharm": {
     "name": "#%%\n",
     "is_executing": false
    }
   }
  },
  {
   "cell_type": "code",
   "execution_count": 27,
   "metadata": {
    "pycharm": {
     "is_executing": false
    }
   },
   "outputs": [
    {
     "name": "stdout",
     "text": [
      "0 Fall 2018 {'start': datetime.datetime(2018, 7, 1, 0, 0), 'end': datetime.datetime(2018, 12, 31, 0, 0)}\n1 Spring 2019 {'start': datetime.datetime(2019, 1, 1, 0, 0), 'end': datetime.datetime(2019, 6, 30, 0, 0)}\n2 Fall 2019 {'start': datetime.datetime(2019, 7, 1, 0, 0), 'end': datetime.datetime(2019, 12, 31, 0, 0)}\n3 Spring 2020 {'start': datetime.datetime(2020, 1, 1, 0, 0), 'end': datetime.datetime(2020, 6, 30, 0, 0)}\n"
     ],
     "output_type": "stream"
    }
   ],
   "source": [
    "for i, (info, test)  in enumerate(models.BIENNIUM_DATES.items()):\n",
    "    print(i, info, test)"
   ]
  },
  {
   "cell_type": "code",
   "execution_count": null,
   "metadata": {
    "pycharm": {
     "is_executing": false
    }
   },
   "outputs": [],
   "source": []
  }
 ],
 "metadata": {
  "kernelspec": {
   "name": "django_extensions",
   "language": "python",
   "display_name": "Django Shell-Plus"
  },
  "language_info": {
   "codemirror_mode": {
    "name": "ipython",
    "version": 3
   },
   "file_extension": ".py",
   "mimetype": "text/x-python",
   "name": "python",
   "nbconvert_exporter": "python",
   "pygments_lexer": "ipython3",
   "version": "3.6.6"
  },
  "pycharm": {
   "stem_cell": {
    "cell_type": "raw",
    "source": [],
    "metadata": {
     "collapsed": false
    }
   }
  }
 },
 "nbformat": 4,
 "nbformat_minor": 2
}
