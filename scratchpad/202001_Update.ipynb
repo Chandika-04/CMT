{
 "cells": [
  {
   "cell_type": "code",
   "execution_count": 1,
   "metadata": {
    "pycharm": {
     "is_executing": false
    }
   },
   "outputs": [
    {
     "data": {
      "text/plain": [
       "'config.settings.local'"
      ]
     },
     "execution_count": 1,
     "metadata": {},
     "output_type": "execute_result"
    }
   ],
   "source": [
    "import os\n",
    "os.chdir('../')\n",
    "os.getcwd()\n",
    "os.environ.setdefault(\"DJANGO_SETTINGS_MODULE\", \"config.settings.local\")"
   ]
  },
  {
   "cell_type": "code",
   "execution_count": 125,
   "metadata": {},
   "outputs": [],
   "source": [
    "os.chdir(r\"D:\\workspace\\thetatauCMT\\scratchpad\\2020Update\")"
   ]
  },
  {
   "cell_type": "code",
   "execution_count": 2,
   "metadata": {
    "pycharm": {
     "is_executing": false,
     "name": "#%%\n"
    }
   },
   "outputs": [],
   "source": [
    "import django\n",
    "from django_pandas.io import read_frame\n",
    "import plotly_express as px\n",
    "%matplotlib inline\n",
    "import numpy as np\n",
    "import matplotlib.pyplot as plt"
   ]
  },
  {
   "cell_type": "code",
   "execution_count": 3,
   "metadata": {
    "pycharm": {
     "name": "#%%\n"
    }
   },
   "outputs": [],
   "source": [
    "django.setup()"
   ]
  },
  {
   "cell_type": "code",
   "execution_count": 4,
   "metadata": {
    "pycharm": {
     "is_executing": false,
     "name": "#%%\n"
    }
   },
   "outputs": [],
   "source": [
    "import plotly\n",
    "import chart_studio.plotly as py\n",
    "from plotly import tools\n",
    "import plotly.graph_objs as go"
   ]
  },
  {
   "cell_type": "code",
   "execution_count": 111,
   "metadata": {
    "pycharm": {
     "is_executing": false
    },
    "scrolled": true
   },
   "outputs": [],
   "source": [
    "from chapters.models import Chapter\n",
    "from scores.models import ScoreType\n",
    "from regions.models import Region\n",
    "from forms.models import Depledge\n",
    "from django.db import models\n",
    "from core import models as core_models\n",
    "from events.models import Event\n",
    "from forms.models import Initiation, StatusChange\n",
    "from tasks.models import TaskChapter\n",
    "from users.models import UserRoleChange, UserOrgParticipate, UserSemesterServiceHours, UserSemesterGPA"
   ]
  },
  {
   "cell_type": "code",
   "execution_count": 6,
   "metadata": {
    "pycharm": {
     "is_executing": false
    }
   },
   "outputs": [],
   "source": [
    "test = Chapter.objects.first()"
   ]
  },
  {
   "cell_type": "code",
   "execution_count": 7,
   "metadata": {
    "pycharm": {
     "is_executing": false
    }
   },
   "outputs": [
    {
     "data": {
      "text/plain": [
       "28"
      ]
     },
     "execution_count": 7,
     "metadata": {},
     "output_type": "execute_result"
    }
   ],
   "source": [
    "test.actives().count()"
   ]
  },
  {
   "cell_type": "code",
   "execution_count": 8,
   "metadata": {
    "pycharm": {
     "is_executing": false
    }
   },
   "outputs": [
    {
     "data": {
      "text/plain": [
       "'volunteer'"
      ]
     },
     "execution_count": 8,
     "metadata": {},
     "output_type": "execute_result"
    }
   ],
   "source": [
    "test.members.exclude(models.Q(depledge__isnull=True)).first().depledge.reason"
   ]
  },
  {
   "cell_type": "code",
   "execution_count": 9,
   "metadata": {
    "pycharm": {
     "is_executing": false
    }
   },
   "outputs": [],
   "source": [
    "colors = {\n",
    "    'actives': 'darkred',\n",
    "    'pledges': 'gold',\n",
    "    'events': 'green',\n",
    "    'submissions': 'yellow',\n",
    "    'Bro': 'darkred',\n",
    "    'Ops': 'skyblue',\n",
    "    'Pro': 'gold',\n",
    "    'Ser': 'magenta',\n",
    "    'volunteer': 'darkred',\n",
    "    'time': 'skyblue',\n",
    "    'grades': 'gold',\n",
    "    'interest': 'magenta',\n",
    "    'vote': 'orange',\n",
    "    'withdrew': 'grey',\n",
    "    'transfer': 'turquoise',\n",
    "    'other': 'turquoise',\n",
    "}"
   ]
  },
  {
   "cell_type": "code",
   "execution_count": 11,
   "metadata": {
    "pycharm": {
     "is_executing": false
    }
   },
   "outputs": [],
   "source": [
    "test_region = Region.objects.last()"
   ]
  },
  {
   "cell_type": "code",
   "execution_count": 12,
   "metadata": {
    "pycharm": {
     "is_executing": false
    }
   },
   "outputs": [
    {
     "data": {
      "text/plain": [
       "<QuerySet [<Chapter: Epsilon>, <Chapter: Lambda Delta>, <Chapter: Mu Delta>, <Chapter: Omicron Gamma>, <Chapter: Rho Delta>, <Chapter: SCU Colony>, <Chapter: SJSU Colony>, <Chapter: UW Colony>]>"
      ]
     },
     "execution_count": 12,
     "metadata": {},
     "output_type": "execute_result"
    }
   ],
   "source": [
    "test_region.chapters.all()"
   ]
  },
  {
   "cell_type": "markdown",
   "metadata": {},
   "source": [
    "# Graph current pledges/actives each chapter"
   ]
  },
  {
   "cell_type": "code",
   "execution_count": 126,
   "metadata": {
    "pycharm": {
     "is_executing": false
    }
   },
   "outputs": [],
   "source": [
    "DataOut=[]\n",
    "legend=True\n",
    "for chapter in Chapter.objects.all():\n",
    "    if chapter.name == \"TEST\" or not chapter.active:\n",
    "        continue\n",
    "    trace= go.Bar(\n",
    "        x=[chapter.name],\n",
    "        y=[chapter.actives().count()],\n",
    "        visible=True,\n",
    "        name=f\"Actives\",\n",
    "        marker=dict(color=colors['actives']),\n",
    "        showlegend=legend,\n",
    "    )\n",
    "    DataOut.append(trace)\n",
    "    trace= go.Bar(\n",
    "        x=[chapter.name],\n",
    "        y=[chapter.pledges().count()],\n",
    "        visible=True,\n",
    "        name=f\"Pledges\",\n",
    "        marker=dict(color=colors['pledges']),\n",
    "        showlegend=legend,\n",
    "    )\n",
    "    legend=False\n",
    "    DataOut.append(trace)"
   ]
  },
  {
   "cell_type": "code",
   "execution_count": 127,
   "metadata": {
    "pycharm": {
     "is_executing": false,
     "name": "#%%\n"
    }
   },
   "outputs": [],
   "source": [
    "menu = [\n",
    "    dict(label = \"ALL\",\n",
    "         method = 'update',\n",
    "         args = [{'visible': [True for data_obj in DataOut]},\n",
    "                 ]),\n",
    "       ]\n",
    "for region in Region.objects.all().order_by('name'):\n",
    "    if region.name == \"Test\":\n",
    "        continue\n",
    "    chapter_names = region.chapters.all().values_list('name', flat=True)\n",
    "    menu_obj = dict(label = region.name,\n",
    "         method = 'update',\n",
    "         args = [{'visible': [True if data_obj['x'][0] in chapter_names else False for data_obj in DataOut]},\n",
    "                 ])\n",
    "    menu.append(menu_obj)\n",
    "updatemenus = list([\n",
    "    dict(active=0,\n",
    "         buttons=menu,\n",
    "    )\n",
    "])"
   ]
  },
  {
   "cell_type": "code",
   "execution_count": 128,
   "metadata": {
    "pycharm": {
     "is_executing": false,
     "name": "#%%\n"
    }
   },
   "outputs": [
    {
     "data": {
      "text/plain": [
       "'chapter_activeVSpledges.html'"
      ]
     },
     "execution_count": 128,
     "metadata": {},
     "output_type": "execute_result"
    }
   ],
   "source": [
    "layout = go.Layout(\n",
    "    barmode='stack',\n",
    "    updatemenus=updatemenus,\n",
    "    title=\"Current Active vs Pledges Per Chapter\"\n",
    ")\n",
    "fig = go.Figure(data=DataOut, layout=layout)\n",
    "plotly.offline.plot(fig, filename=\"chapter_activeVSpledges.html\")"
   ]
  },
  {
   "cell_type": "markdown",
   "metadata": {},
   "source": [
    "# Events for each chapter by type"
   ]
  },
  {
   "cell_type": "code",
   "execution_count": 129,
   "metadata": {
    "pycharm": {
     "is_executing": false
    }
   },
   "outputs": [],
   "source": [
    "for i, (date_name, start_end)  in enumerate(core_models.BIENNIUM_DATES.items()):\n",
    "    DataOut=[]\n",
    "    legend=True\n",
    "    for chapter in Chapter.objects.all():\n",
    "        if chapter.name == \"TEST\" or not chapter.active:\n",
    "            continue\n",
    "        for evt_type in [x.value[0] for x in ScoreType.SECTION]:\n",
    "            count = chapter.events.filter(\n",
    "                date__lte=start_end['end'],\n",
    "                date__gte=start_end['start']\n",
    "            ).filter(type__section=evt_type).count()\n",
    "            trace= go.Bar(\n",
    "                x=[chapter.name],\n",
    "                y=[count],\n",
    "                visible=True,\n",
    "                name=f\"{evt_type}\",\n",
    "                marker=dict(color=colors[evt_type]),\n",
    "                showlegend=legend,\n",
    "            )\n",
    "            DataOut.append(trace)\n",
    "        legend=False\n",
    "    layout = go.Layout(\n",
    "        barmode='stack',\n",
    "        updatemenus=updatemenus,\n",
    "        title=f\"{date_name} Events per Chapter by Event Type\",\n",
    "    )\n",
    "    fig = go.Figure(data=DataOut, layout=layout)\n",
    "    plotly.offline.plot(fig, filename=f\"chapter_eventTypes_{date_name}.html\")"
   ]
  },
  {
   "cell_type": "markdown",
   "metadata": {},
   "source": [
    "# Depledge Reason by Chapter"
   ]
  },
  {
   "cell_type": "code",
   "execution_count": 133,
   "metadata": {
    "pycharm": {
     "is_executing": false
    }
   },
   "outputs": [
    {
     "data": {
      "text/plain": [
       "'chapter_depledges.html'"
      ]
     },
     "execution_count": 133,
     "metadata": {},
     "output_type": "execute_result"
    }
   ],
   "source": [
    "DataOut=[]\n",
    "legend=True\n",
    "for chapter in Chapter.objects.all():\n",
    "    if chapter.name == \"TEST\" or not chapter.active:\n",
    "        continue\n",
    "    depledge_count = 0\n",
    "    for type_value in [x.value[0] for x in Depledge.REASONS]:\n",
    "        count = chapter.members.exclude(\n",
    "            models.Q(depledge__isnull=True)).filter(\n",
    "            depledge__reason=type_value, depledge__date__gt=core_models.BIENNIUM_DATES['Fall 2019']['start']).count()\n",
    "        depledge_count += count\n",
    "        trace= go.Bar(\n",
    "            x=[chapter.name],\n",
    "            y=[count],\n",
    "            visible=True,\n",
    "            name=f\"{type_value}\",\n",
    "            marker=dict(color=colors[type_value]),\n",
    "            showlegend=legend,\n",
    "        )\n",
    "        DataOut.append(trace)\n",
    "    pledges = chapter.members.filter(\n",
    "            status__status=\"pnm\",\n",
    "            status__start__gte=core_models.BIENNIUM_DATES['Fall 2019']['start'],\n",
    "            status__end__lte=core_models.BIENNIUM_DATES['Fall 2019']['end']).count() - depledge_count\n",
    "    trace= go.Bar(\n",
    "        x=[chapter.name],\n",
    "        y=[pledges],\n",
    "        visible=True,\n",
    "        name=f\"Total Pledges\",\n",
    "        marker=dict(color='red'),\n",
    "        showlegend=legend,\n",
    "    )\n",
    "    DataOut.append(trace)\n",
    "    legend = False\n",
    "layout = go.Layout(\n",
    "    barmode='stack',\n",
    "    updatemenus=updatemenus,\n",
    "    title=\"Fall 2019 Depledge Reason per Chapter\"\n",
    ")\n",
    "fig = go.Figure(data=DataOut, layout=layout)\n",
    "plotly.offline.plot(fig, filename=\"chapter_depledges.html\")"
   ]
  },
  {
   "cell_type": "markdown",
   "metadata": {},
   "source": [
    "# Total Counts"
   ]
  },
  {
   "cell_type": "code",
   "execution_count": 152,
   "metadata": {
    "pycharm": {
     "is_executing": false,
     "name": "#%%\n"
    }
   },
   "outputs": [
    {
     "data": {
      "text/plain": [
       "'Counts.html'"
      ]
     },
     "execution_count": 152,
     "metadata": {},
     "output_type": "execute_result"
    }
   ],
   "source": [
    "DataOut=[]\n",
    "for i, (date_name, start_end)  in enumerate(core_models.BIENNIUM_DATES.items()):\n",
    "    trace= go.Bar(\n",
    "        x=[f\"Events\"],\n",
    "        y=[Event.objects.filter(\n",
    "            date__lte=start_end['end'],\n",
    "            date__gte=start_end['start']).count()],\n",
    "        visible=True,\n",
    "        name=f\"Events {date_name}\",\n",
    "        hoverlabel={\n",
    "            'namelength':-1,\n",
    "        },\n",
    "        marker=dict(color='darkred'),\n",
    "        showlegend=False,\n",
    "    )\n",
    "    DataOut.append(trace)\n",
    "    trace= go.Bar(\n",
    "        x=[f\"Initiations\"],\n",
    "        y=[Initiation.objects.filter(\n",
    "            date__lte=start_end['end'],\n",
    "            date__gte=start_end['start']).count()],\n",
    "        visible=True,\n",
    "        name=f\"Initiations {date_name}\",\n",
    "        hoverlabel={\n",
    "            'namelength':-1,\n",
    "        },\n",
    "        marker=dict(color='gold'),\n",
    "        showlegend=False,\n",
    "    )\n",
    "    DataOut.append(trace)\n",
    "    trace= go.Bar(\n",
    "        x=[f\"Status Change\"],\n",
    "        y=[StatusChange.objects.filter(\n",
    "            date_start__lte=start_end['end'],\n",
    "            date_start__gte=start_end['start']).count()],\n",
    "        visible=True,\n",
    "        name=f\"Status Change {date_name}\",\n",
    "        hoverlabel={\n",
    "            'namelength':-1,\n",
    "        },\n",
    "        marker=dict(color='magenta'),\n",
    "        showlegend=False,\n",
    "    )\n",
    "    DataOut.append(trace)\n",
    "    trace= go.Bar(\n",
    "        x=[f\"Officer Reports\"],\n",
    "        y=[UserRoleChange.objects.filter(\n",
    "            start__lte=start_end['end'],\n",
    "            start__gte=start_end['start']).count()],\n",
    "        visible=True,\n",
    "        name=f\"Officer Reports {date_name}\",\n",
    "        hoverlabel={\n",
    "            'namelength':-1,\n",
    "        },\n",
    "        marker=dict(color='cyan'),\n",
    "        showlegend=False,\n",
    "    )\n",
    "    DataOut.append(trace)\n",
    "layout = go.Layout(\n",
    "    title=\"Total Biennium Counts\"\n",
    ")\n",
    "fig = go.Figure(data=DataOut, layout=layout)\n",
    "plotly.offline.plot(fig, filename=\"Counts.html\")"
   ]
  },
  {
   "cell_type": "code",
   "execution_count": 30,
   "metadata": {},
   "outputs": [
    {
     "data": {
      "text/plain": [
       "2357"
      ]
     },
     "execution_count": 30,
     "metadata": {},
     "output_type": "execute_result"
    }
   ],
   "source": [
    "UserOrgParticipate.objects.all().count()"
   ]
  },
  {
   "cell_type": "code",
   "execution_count": 54,
   "metadata": {},
   "outputs": [],
   "source": [
    "all_orgs = UserOrgParticipate.objects.filter(\n",
    "            start__gte=core_models.BIENNIUM_DATES['Fall 2018']['start'],\n",
    "            end__lte=core_models.BIENNIUM_DATES['Spring 2020']['end']).values_list('org_name', flat=True)"
   ]
  },
  {
   "cell_type": "code",
   "execution_count": 55,
   "metadata": {},
   "outputs": [
    {
     "data": {
      "text/plain": [
       "181"
      ]
     },
     "execution_count": 55,
     "metadata": {},
     "output_type": "execute_result"
    }
   ],
   "source": [
    "all_orgs.count()"
   ]
  },
  {
   "cell_type": "code",
   "execution_count": 58,
   "metadata": {},
   "outputs": [],
   "source": [
    "orgs_sep = []\n",
    "for org in all_orgs:\n",
    "    orgs_sep.extend(org.split(\",\"))"
   ]
  },
  {
   "cell_type": "code",
   "execution_count": 59,
   "metadata": {},
   "outputs": [],
   "source": [
    "orgs_cleaned = [org.strip() for org in orgs_sep]"
   ]
  },
  {
   "cell_type": "code",
   "execution_count": 135,
   "metadata": {},
   "outputs": [
    {
     "data": {
      "text/plain": [
       "182"
      ]
     },
     "execution_count": 135,
     "metadata": {},
     "output_type": "execute_result"
    }
   ],
   "source": [
    "len(orgs_cleaned)"
   ]
  },
  {
   "cell_type": "code",
   "execution_count": 60,
   "metadata": {},
   "outputs": [],
   "source": [
    "from collections import Counter"
   ]
  },
  {
   "cell_type": "code",
   "execution_count": 61,
   "metadata": {
    "scrolled": false
   },
   "outputs": [],
   "source": [
    "count = Counter(orgs_cleaned)"
   ]
  },
  {
   "cell_type": "code",
   "execution_count": 63,
   "metadata": {},
   "outputs": [
    {
     "data": {
      "text/plain": [
       "[('ASME', 9),\n",
       " ('IEEE', 8),\n",
       " ('BMES', 7),\n",
       " ('Tau Beta Pi', 5),\n",
       " ('SWE', 5),\n",
       " ('ASCE', 4),\n",
       " ('AIChE', 4),\n",
       " ('Alpha Phi Omega', 3),\n",
       " ('American Society of Civil Engineers', 3),\n",
       " ('Club Soccer', 3)]"
      ]
     },
     "execution_count": 63,
     "metadata": {},
     "output_type": "execute_result"
    }
   ],
   "source": [
    "count.most_common(10)"
   ]
  },
  {
   "cell_type": "code",
   "execution_count": 65,
   "metadata": {},
   "outputs": [
    {
     "data": {
      "text/plain": [
       "4683"
      ]
     },
     "execution_count": 65,
     "metadata": {},
     "output_type": "execute_result"
    }
   ],
   "source": [
    "UserSemesterServiceHours.objects.all().count()"
   ]
  },
  {
   "cell_type": "code",
   "execution_count": 107,
   "metadata": {},
   "outputs": [
    {
     "name": "stdout",
     "output_type": "stream",
     "text": [
      "Semester\tService Total\n",
      "Fall 2018\t3963.6\n",
      "Spring 2019\t4738.75\n",
      "Fall 2019\t2706.5\n",
      "Spring 2020\t51.0\n",
      "Total Bi\t11459.85\n"
     ]
    }
   ],
   "source": [
    "total = 0\n",
    "print(\"Semester\", 'Service Total', sep='\\t')\n",
    "for i, (date_name, start_end)  in enumerate(core_models.BIENNIUM_DATES.items()):\n",
    "    semester, year = date_name.split(' ')\n",
    "    sem = {'Fall': 'fa', 'Spring': 'sp'}[semester]\n",
    "    all_service = UserSemesterServiceHours.objects.filter(\n",
    "                year=int(year), term=sem,).values_list('service_hours', flat=True)\n",
    "    sem_total = sum(all_service)\n",
    "    total += sem_total\n",
    "    print(date_name, sem_total, sep='\\t')\n",
    "print(\"Total Bi\", total, sep='\\t')"
   ]
  },
  {
   "cell_type": "code",
   "execution_count": 110,
   "metadata": {},
   "outputs": [
    {
     "name": "stdout",
     "output_type": "stream",
     "text": [
      "1197\n",
      "9.573809523809524\n"
     ]
    }
   ],
   "source": [
    "all_service = UserSemesterServiceHours.objects.filter(\n",
    "                year=2018, term='fa',).values_list('service_hours', flat=True) | \\\n",
    "UserSemesterServiceHours.objects.filter(\n",
    "            year__in=[2019, 2020]).values_list('service_hours', flat=True)\n",
    "print(all_service.count())\n",
    "print(sum(all_service) / all_service.count())"
   ]
  },
  {
   "cell_type": "code",
   "execution_count": 112,
   "metadata": {},
   "outputs": [
    {
     "name": "stdout",
     "output_type": "stream",
     "text": [
      "2571\n",
      "3.343719175418123\n"
     ]
    }
   ],
   "source": [
    "all_gpa = UserSemesterGPA.objects.filter(\n",
    "                year=2018, term='fa',).values_list('gpa', flat=True) | \\\n",
    "UserSemesterGPA.objects.filter(\n",
    "            year__in=[2019, 2020]).values_list('gpa', flat=True)\n",
    "print(all_gpa.count())\n",
    "print(sum(all_gpa) / all_gpa.count())"
   ]
  },
  {
   "cell_type": "code",
   "execution_count": 113,
   "metadata": {},
   "outputs": [
    {
     "data": {
      "text/plain": [
       "4.2"
      ]
     },
     "execution_count": 113,
     "metadata": {},
     "output_type": "execute_result"
    }
   ],
   "source": [
    "max(all_gpa)"
   ]
  },
  {
   "cell_type": "code",
   "execution_count": 114,
   "metadata": {},
   "outputs": [
    {
     "data": {
      "text/plain": [
       "0.99"
      ]
     },
     "execution_count": 114,
     "metadata": {},
     "output_type": "execute_result"
    }
   ],
   "source": [
    "min(all_gpa)"
   ]
  },
  {
   "cell_type": "code",
   "execution_count": 137,
   "metadata": {},
   "outputs": [
    {
     "data": {
      "text/plain": [
       "4808"
      ]
     },
     "execution_count": 137,
     "metadata": {},
     "output_type": "execute_result"
    }
   ],
   "source": [
    "Event.objects.filter(date__gte=core_models.BIENNIUM_DATES['Fall 2018']['start'],\n",
    "                     date__lte=core_models.BIENNIUM_DATES['Spring 2020']['end']).count()"
   ]
  },
  {
   "cell_type": "code",
   "execution_count": 138,
   "metadata": {},
   "outputs": [
    {
     "data": {
      "text/plain": [
       "446"
      ]
     },
     "execution_count": 138,
     "metadata": {},
     "output_type": "execute_result"
    }
   ],
   "source": [
    "Submission.objects.filter(date__gte=core_models.BIENNIUM_DATES['Fall 2018']['start'],\n",
    "                          date__lte=core_models.BIENNIUM_DATES['Spring 2020']['end']).count()"
   ]
  },
  {
   "cell_type": "code",
   "execution_count": 139,
   "metadata": {},
   "outputs": [],
   "source": [
    "from tasks.models import TaskChapter"
   ]
  },
  {
   "cell_type": "code",
   "execution_count": 140,
   "metadata": {},
   "outputs": [
    {
     "data": {
      "text/plain": [
       "2377"
      ]
     },
     "execution_count": 140,
     "metadata": {},
     "output_type": "execute_result"
    }
   ],
   "source": [
    "TaskChapter.objects.filter(date__gte=core_models.BIENNIUM_DATES['Fall 2018']['start'],\n",
    "                           date__lte=core_models.BIENNIUM_DATES['Spring 2020']['end']).count()"
   ]
  },
  {
   "cell_type": "code",
   "execution_count": 142,
   "metadata": {},
   "outputs": [
    {
     "data": {
      "text/plain": [
       "2245"
      ]
     },
     "execution_count": 142,
     "metadata": {},
     "output_type": "execute_result"
    }
   ],
   "source": [
    "Initiation.objects.filter(date__gte=core_models.BIENNIUM_DATES['Fall 2018']['start'],\n",
    "                          date__lte=core_models.BIENNIUM_DATES['Spring 2020']['end']).count()"
   ]
  },
  {
   "cell_type": "code",
   "execution_count": 151,
   "metadata": {},
   "outputs": [
    {
     "data": {
      "text/plain": [
       "2369"
      ]
     },
     "execution_count": 151,
     "metadata": {},
     "output_type": "execute_result"
    }
   ],
   "source": [
    "StatusChange.objects.filter(date_start__gte=core_models.BIENNIUM_DATES['Fall 2018']['start'],\n",
    "                            date_start__lte=core_models.BIENNIUM_DATES['Spring 2020']['end']).count()"
   ]
  },
  {
   "cell_type": "code",
   "execution_count": 145,
   "metadata": {},
   "outputs": [],
   "source": [
    "from forms.models import Audit"
   ]
  },
  {
   "cell_type": "code",
   "execution_count": 146,
   "metadata": {},
   "outputs": [
    {
     "name": "stderr",
     "output_type": "stream",
     "text": [
      "d:\\workspace\\.virtualenvs\\cmt\\lib\\site-packages\\django\\db\\models\\fields\\__init__.py:1421: RuntimeWarning:\n",
      "\n",
      "DateTimeField Audit.created received a naive datetime (2018-07-01 00:00:00) while time zone support is active.\n",
      "\n",
      "d:\\workspace\\.virtualenvs\\cmt\\lib\\site-packages\\django\\db\\models\\fields\\__init__.py:1421: RuntimeWarning:\n",
      "\n",
      "DateTimeField Audit.created received a naive datetime (2020-06-30 00:00:00) while time zone support is active.\n",
      "\n"
     ]
    },
    {
     "data": {
      "text/plain": [
       "363"
      ]
     },
     "execution_count": 146,
     "metadata": {},
     "output_type": "execute_result"
    }
   ],
   "source": [
    "Audit.objects.filter(created__gte=core_models.BIENNIUM_DATES['Fall 2018']['start'],\n",
    "                     created__lte=core_models.BIENNIUM_DATES['Spring 2020']['end']).count()"
   ]
  },
  {
   "cell_type": "code",
   "execution_count": 150,
   "metadata": {},
   "outputs": [
    {
     "data": {
      "text/plain": [
       "432"
      ]
     },
     "execution_count": 150,
     "metadata": {},
     "output_type": "execute_result"
    }
   ],
   "source": [
    "Depledge.objects.filter(date__gte=core_models.BIENNIUM_DATES['Fall 2018']['start'],\n",
    "                        date__lte=core_models.BIENNIUM_DATES['Spring 2020']['end']).count()"
   ]
  },
  {
   "cell_type": "code",
   "execution_count": 149,
   "metadata": {},
   "outputs": [
    {
     "data": {
      "text/plain": [
       "2277"
      ]
     },
     "execution_count": 149,
     "metadata": {},
     "output_type": "execute_result"
    }
   ],
   "source": [
    "UserRoleChange.objects.filter(start__gte=core_models.BIENNIUM_DATES['Fall 2018']['start'],\n",
    "                              start__lte=core_models.BIENNIUM_DATES['Spring 2020']['end']).count()"
   ]
  },
  {
   "cell_type": "code",
   "execution_count": null,
   "metadata": {},
   "outputs": [],
   "source": []
  }
 ],
 "metadata": {
  "kernelspec": {
   "display_name": "Django Shell-Plus",
   "language": "python",
   "name": "django_extensions"
  },
  "language_info": {
   "codemirror_mode": {
    "name": "ipython",
    "version": 3
   },
   "file_extension": ".py",
   "mimetype": "text/x-python",
   "name": "python",
   "nbconvert_exporter": "python",
   "pygments_lexer": "ipython3",
   "version": "3.6.6"
  },
  "pycharm": {
   "stem_cell": {
    "cell_type": "raw",
    "metadata": {
     "collapsed": false
    },
    "source": []
   }
  }
 },
 "nbformat": 4,
 "nbformat_minor": 2
}
